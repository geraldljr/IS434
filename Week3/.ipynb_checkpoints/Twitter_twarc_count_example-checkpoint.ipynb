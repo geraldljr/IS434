{
 "cells": [
  {
   "cell_type": "markdown",
   "metadata": {},
   "source": [
    "In this lab, we will use 'twarc' Python package to interact with Twitter API v2.\n",
    "\n",
    "We will use Tweet Counts --> Recent Tweet counts (endpoint)\n",
    "\n",
    "Here is a sample URL:\n",
    "https://api.twitter.com/2/tweets/counts/recent?query=covid&granularity=day\n",
    "\n",
    "\n",
    "Ref: https://www.youtube.com/watch?v=guHH51GDDI0"
   ]
  },
  {
   "cell_type": "code",
   "execution_count": 3,
   "metadata": {},
   "outputs": [],
   "source": [
    "import plotly.graph_objects as go\n",
    "from twarc import Twarc2"
   ]
  },
  {
   "cell_type": "code",
   "execution_count": 4,
   "metadata": {},
   "outputs": [],
   "source": [
    "# Paste in your own bearer token below\n",
    "client = Twarc2(\n",
    "    bearer_token = 'AAAAAAAAAAAAAAAAAAAAAAIdYQEAAAAAreZGogaOpJ4grVjVB0He1ZNS4uI%3DHZQ6oofjV0daUPCAPScqydAdnEl5LTkIFrWuxZxYRwYpv8FdM9'\n",
    ")"
   ]
  },
  {
   "cell_type": "code",
   "execution_count": null,
   "metadata": {},
   "outputs": [],
   "source": [
    "query = 'covid'"
   ]
  },
  {
   "cell_type": "code",
   "execution_count": null,
   "metadata": {},
   "outputs": [],
   "source": [
    "results = client.counts_recent(\n",
    "    query=query,\n",
    "    granularity='day'\n",
    ")"
   ]
  },
  {
   "cell_type": "code",
   "execution_count": null,
   "metadata": {},
   "outputs": [],
   "source": [
    "for page in results:\n",
    "    print(\"======================\")\n",
    "    print(page)\n",
    "    data = page['data']"
   ]
  },
  {
   "cell_type": "code",
   "execution_count": null,
   "metadata": {},
   "outputs": [],
   "source": [
    "day = []\n",
    "counts = []\n",
    "\n",
    "for d in data:\n",
    "    day.append( d['start'][:10] )\n",
    "    counts.append( d['tweet_count'] )"
   ]
  },
  {
   "cell_type": "code",
   "execution_count": null,
   "metadata": {},
   "outputs": [],
   "source": [
    "fig = go.Figure(\n",
    "    data=[\n",
    "        go.Bar(x=day, y=counts)\n",
    "    ]\n",
    ")\n",
    "\n",
    "fig.show()"
   ]
  }
 ],
 "metadata": {
  "kernelspec": {
   "display_name": "Python 3",
   "language": "python",
   "name": "python3"
  },
  "language_info": {
   "codemirror_mode": {
    "name": "ipython",
    "version": 3
   },
   "file_extension": ".py",
   "mimetype": "text/x-python",
   "name": "python",
   "nbconvert_exporter": "python",
   "pygments_lexer": "ipython3",
   "version": "3.8.3"
  }
 },
 "nbformat": 4,
 "nbformat_minor": 5
}
